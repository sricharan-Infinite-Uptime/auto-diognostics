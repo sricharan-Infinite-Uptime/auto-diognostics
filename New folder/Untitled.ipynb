{
 "cells": [
  {
   "cell_type": "code",
   "execution_count": 41,
   "id": "e5404df9",
   "metadata": {},
   "outputs": [],
   "source": [
    "import datetime"
   ]
  },
  {
   "cell_type": "code",
   "execution_count": 42,
   "id": "0a241f8f",
   "metadata": {},
   "outputs": [],
   "source": [
    "a = datetime.date(2023, 10 ,25)  # month should npot contain the 0 infront of the number"
   ]
  },
  {
   "cell_type": "code",
   "execution_count": 43,
   "id": "aa74f38b",
   "metadata": {},
   "outputs": [
    {
     "name": "stdout",
     "output_type": "stream",
     "text": [
      "2023-10-25\n"
     ]
    }
   ],
   "source": [
    "print(a)"
   ]
  },
  {
   "cell_type": "code",
   "execution_count": 44,
   "id": "99c4278e",
   "metadata": {},
   "outputs": [],
   "source": [
    "a1 = datetime.date.today()"
   ]
  },
  {
   "cell_type": "code",
   "execution_count": 45,
   "id": "dc4adac8",
   "metadata": {},
   "outputs": [
    {
     "name": "stdout",
     "output_type": "stream",
     "text": [
      "4\n",
      "5\n"
     ]
    }
   ],
   "source": [
    "print(a1.weekday())           # in week day function days start with 0\n",
    "print(a1.isoweekday())        # in isoweekday function the day start with 1"
   ]
  },
  {
   "cell_type": "code",
   "execution_count": 46,
   "id": "a344a21a",
   "metadata": {},
   "outputs": [
    {
     "name": "stdout",
     "output_type": "stream",
     "text": [
      "2022-01-14\n"
     ]
    }
   ],
   "source": [
    "time_delta = datetime.timedelta(days = 7)  # time delta will calculate the isoweekday format\n",
    "print(a1 + time_delta)"
   ]
  },
  {
   "cell_type": "code",
   "execution_count": 47,
   "id": "cf5e09b1",
   "metadata": {},
   "outputs": [
    {
     "name": "stdout",
     "output_type": "stream",
     "text": [
      "656 days, 0:00:00\n"
     ]
    }
   ],
   "source": [
    "no_days = a - a1 \n",
    "print(no_days)"
   ]
  },
  {
   "cell_type": "code",
   "execution_count": 48,
   "id": "64c8741c",
   "metadata": {},
   "outputs": [],
   "source": [
    "t = datetime.datetime.today()"
   ]
  },
  {
   "cell_type": "code",
   "execution_count": 49,
   "id": "2092c858",
   "metadata": {},
   "outputs": [
    {
     "name": "stdout",
     "output_type": "stream",
     "text": [
      "2022-01-07 11:53:33.978678\n"
     ]
    }
   ],
   "source": [
    "print(t)"
   ]
  },
  {
   "cell_type": "code",
   "execution_count": 50,
   "id": "126eea80",
   "metadata": {},
   "outputs": [
    {
     "name": "stdout",
     "output_type": "stream",
     "text": [
      "Requirement already satisfied: pytz in c:\\programdata\\anaconda3\\lib\\site-packages (2021.3)\n",
      "Note: you may need to restart the kernel to use updated packages.\n"
     ]
    }
   ],
   "source": [
    "pip install pytz"
   ]
  },
  {
   "cell_type": "code",
   "execution_count": null,
   "id": "402b947c",
   "metadata": {},
   "outputs": [],
   "source": []
  }
 ],
 "metadata": {
  "kernelspec": {
   "display_name": "Python 3 (ipykernel)",
   "language": "python",
   "name": "python3"
  },
  "language_info": {
   "codemirror_mode": {
    "name": "ipython",
    "version": 3
   },
   "file_extension": ".py",
   "mimetype": "text/x-python",
   "name": "python",
   "nbconvert_exporter": "python",
   "pygments_lexer": "ipython3",
   "version": "3.9.7"
  }
 },
 "nbformat": 4,
 "nbformat_minor": 5
}
