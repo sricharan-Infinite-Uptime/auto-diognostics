{
 "cells": [
  {
   "cell_type": "code",
   "execution_count": 11,
   "metadata": {},
   "outputs": [],
   "source": [
    "from time import sleep\n",
    "from json import dumps,loads\n",
    "from kafka import KafkaConsumer\n",
    "import pickle\n",
    "import datetime\n",
    "import pandas as pd\n",
    "import psycopg2\n",
    "import yaml\n",
    "import os"
   ]
  },
  {
   "cell_type": "code",
   "execution_count": 12,
   "metadata": {},
   "outputs": [],
   "source": [
    "#retrieve data from pickle \n",
    "def restore_db(pickle_name):\n",
    "    \"\"\"\n",
    "    pickle_name is a string, that is how the compressed file is named\n",
    "    this function returns the data in the same format it was stored\n",
    "    \"\"\"\n",
    "    infile = open(pickle_name,'rb')\n",
    "    source= pickle.load(infile)\n",
    "    print('File type:',type(source))\n",
    "    infile.close()\n",
    "    return source"
   ]
  },
  {
   "cell_type": "code",
   "execution_count": 13,
   "metadata": {},
   "outputs": [],
   "source": [
    "def get_timestamp_previous_day():\n",
    "    now=datetime.datetime.now()-datetime.timedelta(hours=5.5)\n",
    "    before=now-datetime.timedelta(hours=24)\n",
    "    return(before,now)"
   ]
  },
  {
   "cell_type": "code",
   "execution_count": 14,
   "metadata": {},
   "outputs": [],
   "source": [
    "def get_timestamp_from_epoch(_epoch):\n",
    "    return datetime.datetime.fromtimestamp(_epoch/1000).strftime('%Y-%m-%d %H:%M:%S.%f')"
   ]
  },
  {
   "cell_type": "code",
   "execution_count": 15,
   "metadata": {},
   "outputs": [],
   "source": [
    "\n",
    "#pickle the dataframe for future retrieval if any\n",
    "def store_db(dataframe,pickle_name):\n",
    "    \"\"\"\n",
    "    pickle_name is a string, that is how the compressed file is named\n",
    "    dataframe is name of the dataframe\n",
    "    \n",
    "    \"\"\"\n",
    "    outfile = open(pickle_name,'wb')\n",
    "    pickle.dump(dataframe,outfile)\n",
    "    outfile.close()\n",
    "    print('Data saved as {0} successfully'.format(pickle_name))\n"
   ]
  },
  {
   "cell_type": "markdown",
   "metadata": {},
   "source": [
    "## CONSUMER"
   ]
  },
  {
   "cell_type": "code",
   "execution_count": 24,
   "metadata": {},
   "outputs": [],
   "source": [
    "try:\n",
    "    consumer = KafkaConsumer(\n",
    "        'diagnostic_recommendation_response',\n",
    "         bootstrap_servers=[os.getenv('KAFKA_ENDPOINTS')],\n",
    "         auto_offset_reset='latest',\n",
    "         enable_auto_commit=True,\n",
    "         group_id='diagnostic_consumer_group1',\n",
    "         value_deserializer=lambda x: loads(x.decode('utf-8')))\n",
    "    #logger.info('Kafka Consumer listening to port {}'.format(os.getenv('KAFKA_ENDPOINTS')))\n",
    "except Exception as e:\n",
    "    print('Kafka Consumer Exception:',e)\n",
    "    #logger.info('Kafka Consumer Exception: {}'.format(e))"
   ]
  },
  {
   "cell_type": "markdown",
   "metadata": {},
   "source": [
    "#### Choose Specific Monitor ID, Production"
   ]
  },
  {
   "cell_type": "code",
   "execution_count": 30,
   "metadata": {},
   "outputs": [
    {
     "name": "stdout",
     "output_type": "stream",
     "text": [
      "{'machineId': 2028, 'monitorLabel': 'GEARBOX INPUT DE', 'orientation': 'VAH', 'machine_type': 11, 'category': 'gearbox', 'mach_category': 'unknown', 'startTime': 1640629800000, 'endTime': 1640716200000, 'monitorId': 8966, 'observation': 'Truncated Waveform observed. Check for g-Range input', 'diagnostic': '', 'trend': 1, 'recommendation': '', 'healthScore': 0, 'error': 'Truncated waveform detected for last 10 days', 'serviceCode': 0, 'serviceRequired': 'false', 'timestamp': '2021-12-28 18:40:26.970000+00:00', 'speed': 1500} \n",
      "\n",
      "{'machineId': 2028, 'monitorLabel': 'GEARBOX INPUT NDE', 'orientation': 'AHV', 'machine_type': 11, 'category': 'gearbox', 'mach_category': 'unknown', 'startTime': 1640629800000, 'endTime': 1640716200000, 'monitorId': 8968, 'observation': 'In Axial direction, Non Synchronous component has considerable energy contribution.  Harmonics of GMF observed.', 'diagnostic': 'No Significant Fault diagnosed that needs immediate action', 'trend': 1, 'recommendation': 'Continue monitoring vibration', 'healthScore': 95, 'error': '', 'serviceCode': 0, 'serviceRequired': 'false', 'timestamp': '2021-12-24T15:56:51.815000000', 'speed': 1465, 'alert': 'false', 'healthTrend': 1} \n",
      "\n",
      "{'machineId': 2028, 'monitorLabel': 'GEARBOX INTERMEDIATE DE', 'orientation': 'HVA', 'machine_type': 11, 'category': 'gearbox', 'mach_category': 'unknown', 'startTime': 1640629800000, 'endTime': 1640716200000, 'monitorId': 8969, 'observation': 'In Horizontal direction, Synchronous component has considerable energy contribution.  GMF observed.', 'diagnostic': 'No Significant Fault diagnosed that needs immediate action', 'trend': 1, 'recommendation': 'Continue monitoring vibration', 'healthScore': 95, 'error': '', 'serviceCode': 0, 'serviceRequired': 'false', 'timestamp': '2021-12-28T07:10:25.766000000', 'speed': 501, 'alert': 'false', 'healthTrend': 1} \n",
      "\n",
      "{'machineId': 2028, 'monitorLabel': 'GEARBOX INTERMEDIATE NDE', 'orientation': 'AHV', 'machine_type': 11, 'category': 'gearbox', 'mach_category': 'unknown', 'startTime': 1640629800000, 'endTime': 1640716200000, 'monitorId': 8964, 'observation': 'In Vertical direction, Non Synchronous component has considerable energy contribution.  Harmonics of GMF observed.', 'diagnostic': 'No Significant Fault diagnosed that needs immediate action', 'trend': 1, 'recommendation': 'Continue monitoring vibration', 'healthScore': 95, 'error': '', 'serviceCode': 0, 'serviceRequired': 'false', 'timestamp': '2021-12-28T00:10:25.750000000', 'speed': 477, 'alert': 'false', 'healthTrend': 1} \n",
      "\n",
      "{'machineId': 2028, 'monitorLabel': 'GEARBOX OUTPUT DE', 'orientation': 'AHV', 'machine_type': 11, 'category': 'gearbox', 'mach_category': 'unknown', 'startTime': 1640629800000, 'endTime': 1640716200000, 'monitorId': 8963, 'observation': 'In Axial direction, Synchronous component has considerable energy contribution. Harmonics of Non-Synchronous Frequency noticed Harmonics of GMF observed. Shockwave Waveform p-p values exceeding threshold.', 'diagnostic': 'Bearing Fault detected', 'trend': 1, 'recommendation': 'Plan to replace bearing at next opportunity', 'healthScore': 16, 'error': '', 'serviceCode': 15, 'serviceRequired': 'true', 'timestamp': '2021-12-28T21:40:26.823000000', 'speed': 87, 'alert': 'true', 'healthTrend': 1} \n",
      "\n",
      "{'machineId': 2028, 'monitorLabel': 'MOTOR DE', 'orientation': 'AVH', 'machine_type': 11, 'category': 'motor', 'mach_category': 'unknown', 'startTime': 1640629800000, 'endTime': 1640716200000, 'monitorId': 8973, 'observation': 'In Vertical direction, Synchronous component has considerable energy contribution. Multiple harmonics of 1X observed.', 'diagnostic': 'Rotating Looseness Fault detected', 'trend': 1, 'recommendation': 'No immediate action is required', 'healthScore': 88, 'error': '', 'serviceCode': 17, 'serviceRequired': 'false', 'timestamp': '2021-12-28T00:10:26.238000000', 'speed': 1494, 'alert': 'false', 'healthTrend': 1} \n",
      "\n",
      "{'machineId': 2028, 'monitorLabel': 'MOTOR NDE', 'orientation': 'AVH', 'machine_type': 11, 'category': 'motor', 'mach_category': 'unknown', 'startTime': 1640629800000, 'endTime': 1640716200000, 'monitorId': 8962, 'observation': 'In Axial direction, Synchronous component has considerable energy contribution. Multiple harmonics of 1X observed.', 'diagnostic': 'Rotating Looseness Fault detected', 'trend': 1, 'recommendation': 'No immediate action is required', 'healthScore': 87, 'error': '', 'serviceCode': 17, 'serviceRequired': 'false', 'timestamp': '2021-12-28T00:10:26.196000000', 'speed': 1483, 'alert': 'false', 'healthTrend': 1} \n",
      "\n",
      "{'machineId': 2028, 'monitorLabel': 'PINION PB BEARING', 'orientation': 'HVA', 'machine_type': 11, 'category': 'gearbox', 'mach_category': 'unknown', 'startTime': 1640629800000, 'endTime': 1640716200000, 'monitorId': 8967, 'observation': 'In Horizontal direction, Synchronous component has considerable energy contribution.  Harmonics of GMF observed.', 'diagnostic': 'No Significant Fault diagnosed that needs immediate action', 'trend': 1, 'recommendation': 'Continue monitoring vibration', 'healthScore': 95, 'error': '', 'serviceCode': 0, 'serviceRequired': 'false', 'timestamp': '2021-12-28T00:10:23.828000000', 'speed': 79, 'alert': 'false', 'healthTrend': 1} \n",
      "\n",
      "{'machineId': 2117, 'monitorLabel': 'GEARBOX I/P NDE', 'orientation': 'AVH', 'machine_type': 11, 'category': 'gearbox', 'mach_category': 'unknown', 'startTime': 1640629800000, 'endTime': 1640716200000, 'monitorId': 8970, 'observation': 'In Axial direction, Non Synchronous component has considerable energy contribution.  Harmonics of GMF observed.', 'diagnostic': 'Low amplitudes of Indications of Gear Wear Fault detected', 'trend': 1, 'recommendation': 'No immediate action is required', 'healthScore': 95, 'error': '', 'serviceCode': 5, 'serviceRequired': 'false', 'timestamp': '2021-12-27T01:01:29.649000000', 'speed': 1625, 'alert': 'false', 'healthTrend': 1} \n",
      "\n",
      "{'machineId': 2117, 'monitorLabel': 'GEARBOX I/P-DE', 'orientation': 'AVH', 'machine_type': 11, 'category': 'gearbox', 'mach_category': 'unknown', 'startTime': 1640629800000, 'endTime': 1640716200000, 'monitorId': 8976, 'observation': 'In Horizontal direction, Non Synchronous component has considerable energy contribution.  GMF observed. Increasing trend of High Frequency RMS is observed.', 'diagnostic': 'Low amplitudes of Indications of Gear Wear Fault detected', 'trend': 1, 'recommendation': 'No immediate action is required', 'healthScore': 95, 'error': '', 'serviceCode': 5, 'serviceRequired': 'false', 'timestamp': '2021-12-27T01:10:21.860000000', 'speed': 1548, 'alert': 'false', 'healthTrend': 1} \n",
      "\n",
      "{'machineId': 2117, 'monitorLabel': 'GEARBOX INTERMEDIATE DE', 'orientation': 'AHV', 'machine_type': 11, 'category': 'gearbox', 'mach_category': 'unknown', 'startTime': 1640629800000, 'endTime': 1640716200000, 'monitorId': 8977, 'observation': 'In Axial direction, Non Synchronous component has considerable energy contribution.  GMF observed.', 'diagnostic': 'No Significant Fault diagnosed that needs immediate action', 'trend': 1, 'recommendation': 'Continue monitoring vibration', 'healthScore': 95, 'error': '', 'serviceCode': 0, 'serviceRequired': 'false', 'timestamp': '2021-12-28T17:10:27.734000000', 'speed': 536, 'alert': 'false', 'healthTrend': 1} \n",
      "\n",
      "{'machineId': 2117, 'monitorLabel': 'GEARBOX INTERMEDIATE NDE', 'orientation': 'AHV', 'machine_type': 11, 'category': 'gearbox', 'mach_category': 'unknown', 'startTime': 1640629800000, 'endTime': 1640716200000, 'monitorId': 8974, 'observation': 'Spectrum Data not available in given time frame', 'diagnostic': '', 'trend': 1, 'recommendation': '', 'healthScore': 0, 'error': 'Spectrum Data not available in given time frame', 'serviceCode': 0, 'serviceRequired': 'false'} \n",
      "\n",
      "{'machineId': 2117, 'monitorLabel': 'GEARBOX OUTPUT DE', 'orientation': 'AHV', 'machine_type': 11, 'category': 'gearbox', 'mach_category': 'unknown', 'startTime': 1640629800000, 'endTime': 1640716200000, 'monitorId': 8972, 'observation': 'In Horizontal direction, Non Synchronous component has considerable energy contribution. Harmonics of Non-Synchronous Frequency noticed Harmonics of GMF observed.', 'diagnostic': 'Low amplitudes of Bearing Fault detected', 'trend': 1, 'recommendation': 'No immediate action is required', 'healthScore': 95, 'error': '', 'serviceCode': 16, 'serviceRequired': 'false', 'timestamp': '2021-12-24T03:56:33.992000000', 'speed': 79, 'alert': 'false', 'healthTrend': 1} \n",
      "\n"
     ]
    },
    {
     "name": "stdout",
     "output_type": "stream",
     "text": [
      "{'machineId': 2117, 'monitorLabel': 'MOTOR DE', 'orientation': 'AVH', 'machine_type': 11, 'category': 'motor', 'mach_category': 'unknown', 'startTime': 1640629800000, 'endTime': 1640716200000, 'monitorId': 8975, 'observation': 'In Axial direction, Synchronous component has considerable energy contribution. ', 'diagnostic': 'No Significant Fault diagnosed that needs immediate action', 'trend': 1, 'recommendation': 'Continue monitoring vibration', 'healthScore': 93, 'error': '', 'serviceCode': 0, 'serviceRequired': 'false', 'timestamp': '2021-12-25T00:57:29.060000000', 'speed': 1497, 'alert': 'false', 'healthTrend': 2} \n",
      "\n",
      "{'machineId': 2117, 'monitorLabel': 'MOTOR NDE', 'orientation': 'AVH', 'machine_type': 11, 'category': 'motor', 'mach_category': 'unknown', 'startTime': 1640629800000, 'endTime': 1640716200000, 'monitorId': 8965, 'observation': 'In Vertical direction, Synchronous component has considerable energy contribution. Dominant 1X detected in Vertical direction.', 'diagnostic': 'Structural Looseness Fault detected', 'trend': 1, 'recommendation': 'Closely monitor trend for increasing looseness in the structure', 'healthScore': 79, 'error': '', 'serviceCode': 19, 'serviceRequired': 'true', 'timestamp': '2021-12-28T18:10:27.855000000', 'speed': 1480, 'alert': 'false', 'healthTrend': 2} \n",
      "\n",
      "{'machineId': 2117, 'monitorLabel': 'PINION PB BEARING', 'orientation': 'HVA', 'machine_type': 11, 'category': 'gearbox', 'mach_category': 'unknown', 'startTime': 1640629800000, 'endTime': 1640716200000, 'monitorId': 8971, 'observation': 'In Horizontal direction, Non Synchronous component has considerable energy contribution. Harmonics of Non-Synchronous Frequency detected Harmonics of GMF observed.', 'diagnostic': 'Low amplitudes of Bearing Fault detected', 'trend': 1, 'recommendation': 'No immediate action is required', 'healthScore': 95, 'error': '', 'serviceCode': 16, 'serviceRequired': 'false', 'timestamp': '2021-12-27T05:10:22.732000000', 'speed': 87, 'alert': 'false', 'healthTrend': 1} \n",
      "\n"
     ]
    },
    {
     "ename": "KeyboardInterrupt",
     "evalue": "",
     "output_type": "error",
     "traceback": [
      "\u001b[1;31m---------------------------------------------------------------------------\u001b[0m",
      "\u001b[1;31mKeyboardInterrupt\u001b[0m                         Traceback (most recent call last)",
      "\u001b[1;32m<ipython-input-30-4e9f874492d9>\u001b[0m in \u001b[0;36m<module>\u001b[1;34m\u001b[0m\n\u001b[0;32m      1\u001b[0m \u001b[0mconsumer_df\u001b[0m\u001b[1;33m=\u001b[0m\u001b[0mpd\u001b[0m\u001b[1;33m.\u001b[0m\u001b[0mDataFrame\u001b[0m\u001b[1;33m(\u001b[0m\u001b[1;33m)\u001b[0m\u001b[1;33m\u001b[0m\u001b[1;33m\u001b[0m\u001b[0m\n\u001b[1;32m----> 2\u001b[1;33m \u001b[1;32mfor\u001b[0m \u001b[0mmessage\u001b[0m \u001b[1;32min\u001b[0m \u001b[0mconsumer\u001b[0m\u001b[1;33m:\u001b[0m\u001b[1;33m\u001b[0m\u001b[1;33m\u001b[0m\u001b[0m\n\u001b[0m\u001b[0;32m      3\u001b[0m     \u001b[0mmessage\u001b[0m \u001b[1;33m=\u001b[0m \u001b[0mmessage\u001b[0m\u001b[1;33m.\u001b[0m\u001b[0mvalue\u001b[0m\u001b[1;33m\u001b[0m\u001b[1;33m\u001b[0m\u001b[0m\n\u001b[0;32m      4\u001b[0m     \u001b[0mprint\u001b[0m\u001b[1;33m(\u001b[0m\u001b[0mmessage\u001b[0m\u001b[1;33m,\u001b[0m\u001b[1;34m'\\n'\u001b[0m\u001b[1;33m)\u001b[0m\u001b[1;33m\u001b[0m\u001b[1;33m\u001b[0m\u001b[0m\n\u001b[0;32m      5\u001b[0m     \u001b[0mconsumer_df\u001b[0m\u001b[1;33m=\u001b[0m\u001b[0mconsumer_df\u001b[0m\u001b[1;33m.\u001b[0m\u001b[0mappend\u001b[0m\u001b[1;33m(\u001b[0m\u001b[0mpd\u001b[0m\u001b[1;33m.\u001b[0m\u001b[0mDataFrame\u001b[0m\u001b[1;33m(\u001b[0m\u001b[1;33m[\u001b[0m\u001b[0mmessage\u001b[0m\u001b[1;33m]\u001b[0m\u001b[1;33m)\u001b[0m\u001b[1;33m)\u001b[0m\u001b[1;33m\u001b[0m\u001b[1;33m\u001b[0m\u001b[0m\n",
      "\u001b[1;32m~\\anaconda3\\lib\\site-packages\\kafka\\consumer\\group.py\u001b[0m in \u001b[0;36m__next__\u001b[1;34m(self)\u001b[0m\n\u001b[0;32m   1191\u001b[0m             \u001b[1;32mreturn\u001b[0m \u001b[0mself\u001b[0m\u001b[1;33m.\u001b[0m\u001b[0mnext_v1\u001b[0m\u001b[1;33m(\u001b[0m\u001b[1;33m)\u001b[0m\u001b[1;33m\u001b[0m\u001b[1;33m\u001b[0m\u001b[0m\n\u001b[0;32m   1192\u001b[0m         \u001b[1;32melse\u001b[0m\u001b[1;33m:\u001b[0m\u001b[1;33m\u001b[0m\u001b[1;33m\u001b[0m\u001b[0m\n\u001b[1;32m-> 1193\u001b[1;33m             \u001b[1;32mreturn\u001b[0m \u001b[0mself\u001b[0m\u001b[1;33m.\u001b[0m\u001b[0mnext_v2\u001b[0m\u001b[1;33m(\u001b[0m\u001b[1;33m)\u001b[0m\u001b[1;33m\u001b[0m\u001b[1;33m\u001b[0m\u001b[0m\n\u001b[0m\u001b[0;32m   1194\u001b[0m \u001b[1;33m\u001b[0m\u001b[0m\n\u001b[0;32m   1195\u001b[0m     \u001b[1;32mdef\u001b[0m \u001b[0mnext_v2\u001b[0m\u001b[1;33m(\u001b[0m\u001b[0mself\u001b[0m\u001b[1;33m)\u001b[0m\u001b[1;33m:\u001b[0m\u001b[1;33m\u001b[0m\u001b[1;33m\u001b[0m\u001b[0m\n",
      "\u001b[1;32m~\\anaconda3\\lib\\site-packages\\kafka\\consumer\\group.py\u001b[0m in \u001b[0;36mnext_v2\u001b[1;34m(self)\u001b[0m\n\u001b[0;32m   1199\u001b[0m                 \u001b[0mself\u001b[0m\u001b[1;33m.\u001b[0m\u001b[0m_iterator\u001b[0m \u001b[1;33m=\u001b[0m \u001b[0mself\u001b[0m\u001b[1;33m.\u001b[0m\u001b[0m_message_generator_v2\u001b[0m\u001b[1;33m(\u001b[0m\u001b[1;33m)\u001b[0m\u001b[1;33m\u001b[0m\u001b[1;33m\u001b[0m\u001b[0m\n\u001b[0;32m   1200\u001b[0m             \u001b[1;32mtry\u001b[0m\u001b[1;33m:\u001b[0m\u001b[1;33m\u001b[0m\u001b[1;33m\u001b[0m\u001b[0m\n\u001b[1;32m-> 1201\u001b[1;33m                 \u001b[1;32mreturn\u001b[0m \u001b[0mnext\u001b[0m\u001b[1;33m(\u001b[0m\u001b[0mself\u001b[0m\u001b[1;33m.\u001b[0m\u001b[0m_iterator\u001b[0m\u001b[1;33m)\u001b[0m\u001b[1;33m\u001b[0m\u001b[1;33m\u001b[0m\u001b[0m\n\u001b[0m\u001b[0;32m   1202\u001b[0m             \u001b[1;32mexcept\u001b[0m \u001b[0mStopIteration\u001b[0m\u001b[1;33m:\u001b[0m\u001b[1;33m\u001b[0m\u001b[1;33m\u001b[0m\u001b[0m\n\u001b[0;32m   1203\u001b[0m                 \u001b[0mself\u001b[0m\u001b[1;33m.\u001b[0m\u001b[0m_iterator\u001b[0m \u001b[1;33m=\u001b[0m \u001b[1;32mNone\u001b[0m\u001b[1;33m\u001b[0m\u001b[1;33m\u001b[0m\u001b[0m\n",
      "\u001b[1;32m~\\anaconda3\\lib\\site-packages\\kafka\\consumer\\group.py\u001b[0m in \u001b[0;36m_message_generator_v2\u001b[1;34m(self)\u001b[0m\n\u001b[0;32m   1114\u001b[0m     \u001b[1;32mdef\u001b[0m \u001b[0m_message_generator_v2\u001b[0m\u001b[1;33m(\u001b[0m\u001b[0mself\u001b[0m\u001b[1;33m)\u001b[0m\u001b[1;33m:\u001b[0m\u001b[1;33m\u001b[0m\u001b[1;33m\u001b[0m\u001b[0m\n\u001b[0;32m   1115\u001b[0m         \u001b[0mtimeout_ms\u001b[0m \u001b[1;33m=\u001b[0m \u001b[1;36m1000\u001b[0m \u001b[1;33m*\u001b[0m \u001b[1;33m(\u001b[0m\u001b[0mself\u001b[0m\u001b[1;33m.\u001b[0m\u001b[0m_consumer_timeout\u001b[0m \u001b[1;33m-\u001b[0m \u001b[0mtime\u001b[0m\u001b[1;33m.\u001b[0m\u001b[0mtime\u001b[0m\u001b[1;33m(\u001b[0m\u001b[1;33m)\u001b[0m\u001b[1;33m)\u001b[0m\u001b[1;33m\u001b[0m\u001b[1;33m\u001b[0m\u001b[0m\n\u001b[1;32m-> 1116\u001b[1;33m         \u001b[0mrecord_map\u001b[0m \u001b[1;33m=\u001b[0m \u001b[0mself\u001b[0m\u001b[1;33m.\u001b[0m\u001b[0mpoll\u001b[0m\u001b[1;33m(\u001b[0m\u001b[0mtimeout_ms\u001b[0m\u001b[1;33m=\u001b[0m\u001b[0mtimeout_ms\u001b[0m\u001b[1;33m,\u001b[0m \u001b[0mupdate_offsets\u001b[0m\u001b[1;33m=\u001b[0m\u001b[1;32mFalse\u001b[0m\u001b[1;33m)\u001b[0m\u001b[1;33m\u001b[0m\u001b[1;33m\u001b[0m\u001b[0m\n\u001b[0m\u001b[0;32m   1117\u001b[0m         \u001b[1;32mfor\u001b[0m \u001b[0mtp\u001b[0m\u001b[1;33m,\u001b[0m \u001b[0mrecords\u001b[0m \u001b[1;32min\u001b[0m \u001b[0msix\u001b[0m\u001b[1;33m.\u001b[0m\u001b[0miteritems\u001b[0m\u001b[1;33m(\u001b[0m\u001b[0mrecord_map\u001b[0m\u001b[1;33m)\u001b[0m\u001b[1;33m:\u001b[0m\u001b[1;33m\u001b[0m\u001b[1;33m\u001b[0m\u001b[0m\n\u001b[0;32m   1118\u001b[0m             \u001b[1;31m# Generators are stateful, and it is possible that the tp / records\u001b[0m\u001b[1;33m\u001b[0m\u001b[1;33m\u001b[0m\u001b[1;33m\u001b[0m\u001b[0m\n",
      "\u001b[1;32m~\\anaconda3\\lib\\site-packages\\kafka\\consumer\\group.py\u001b[0m in \u001b[0;36mpoll\u001b[1;34m(self, timeout_ms, max_records, update_offsets)\u001b[0m\n\u001b[0;32m    653\u001b[0m         \u001b[0mremaining\u001b[0m \u001b[1;33m=\u001b[0m \u001b[0mtimeout_ms\u001b[0m\u001b[1;33m\u001b[0m\u001b[1;33m\u001b[0m\u001b[0m\n\u001b[0;32m    654\u001b[0m         \u001b[1;32mwhile\u001b[0m \u001b[1;32mTrue\u001b[0m\u001b[1;33m:\u001b[0m\u001b[1;33m\u001b[0m\u001b[1;33m\u001b[0m\u001b[0m\n\u001b[1;32m--> 655\u001b[1;33m             \u001b[0mrecords\u001b[0m \u001b[1;33m=\u001b[0m \u001b[0mself\u001b[0m\u001b[1;33m.\u001b[0m\u001b[0m_poll_once\u001b[0m\u001b[1;33m(\u001b[0m\u001b[0mremaining\u001b[0m\u001b[1;33m,\u001b[0m \u001b[0mmax_records\u001b[0m\u001b[1;33m,\u001b[0m \u001b[0mupdate_offsets\u001b[0m\u001b[1;33m=\u001b[0m\u001b[0mupdate_offsets\u001b[0m\u001b[1;33m)\u001b[0m\u001b[1;33m\u001b[0m\u001b[1;33m\u001b[0m\u001b[0m\n\u001b[0m\u001b[0;32m    656\u001b[0m             \u001b[1;32mif\u001b[0m \u001b[0mrecords\u001b[0m\u001b[1;33m:\u001b[0m\u001b[1;33m\u001b[0m\u001b[1;33m\u001b[0m\u001b[0m\n\u001b[0;32m    657\u001b[0m                 \u001b[1;32mreturn\u001b[0m \u001b[0mrecords\u001b[0m\u001b[1;33m\u001b[0m\u001b[1;33m\u001b[0m\u001b[0m\n",
      "\u001b[1;32m~\\anaconda3\\lib\\site-packages\\kafka\\consumer\\group.py\u001b[0m in \u001b[0;36m_poll_once\u001b[1;34m(self, timeout_ms, max_records, update_offsets)\u001b[0m\n\u001b[0;32m    700\u001b[0m \u001b[1;33m\u001b[0m\u001b[0m\n\u001b[0;32m    701\u001b[0m         \u001b[0mtimeout_ms\u001b[0m \u001b[1;33m=\u001b[0m \u001b[0mmin\u001b[0m\u001b[1;33m(\u001b[0m\u001b[0mtimeout_ms\u001b[0m\u001b[1;33m,\u001b[0m \u001b[0mself\u001b[0m\u001b[1;33m.\u001b[0m\u001b[0m_coordinator\u001b[0m\u001b[1;33m.\u001b[0m\u001b[0mtime_to_next_poll\u001b[0m\u001b[1;33m(\u001b[0m\u001b[1;33m)\u001b[0m \u001b[1;33m*\u001b[0m \u001b[1;36m1000\u001b[0m\u001b[1;33m)\u001b[0m\u001b[1;33m\u001b[0m\u001b[1;33m\u001b[0m\u001b[0m\n\u001b[1;32m--> 702\u001b[1;33m         \u001b[0mself\u001b[0m\u001b[1;33m.\u001b[0m\u001b[0m_client\u001b[0m\u001b[1;33m.\u001b[0m\u001b[0mpoll\u001b[0m\u001b[1;33m(\u001b[0m\u001b[0mtimeout_ms\u001b[0m\u001b[1;33m=\u001b[0m\u001b[0mtimeout_ms\u001b[0m\u001b[1;33m)\u001b[0m\u001b[1;33m\u001b[0m\u001b[1;33m\u001b[0m\u001b[0m\n\u001b[0m\u001b[0;32m    703\u001b[0m         \u001b[1;31m# after the long poll, we should check whether the group needs to rebalance\u001b[0m\u001b[1;33m\u001b[0m\u001b[1;33m\u001b[0m\u001b[1;33m\u001b[0m\u001b[0m\n\u001b[0;32m    704\u001b[0m         \u001b[1;31m# prior to returning data so that the group can stabilize faster\u001b[0m\u001b[1;33m\u001b[0m\u001b[1;33m\u001b[0m\u001b[1;33m\u001b[0m\u001b[0m\n",
      "\u001b[1;32m~\\anaconda3\\lib\\site-packages\\kafka\\client_async.py\u001b[0m in \u001b[0;36mpoll\u001b[1;34m(self, timeout_ms, future)\u001b[0m\n\u001b[0;32m    600\u001b[0m                     \u001b[0mtimeout\u001b[0m \u001b[1;33m=\u001b[0m \u001b[0mmax\u001b[0m\u001b[1;33m(\u001b[0m\u001b[1;36m0\u001b[0m\u001b[1;33m,\u001b[0m \u001b[0mtimeout\u001b[0m\u001b[1;33m)\u001b[0m  \u001b[1;31m# avoid negative timeouts\u001b[0m\u001b[1;33m\u001b[0m\u001b[1;33m\u001b[0m\u001b[0m\n\u001b[0;32m    601\u001b[0m \u001b[1;33m\u001b[0m\u001b[0m\n\u001b[1;32m--> 602\u001b[1;33m                 \u001b[0mself\u001b[0m\u001b[1;33m.\u001b[0m\u001b[0m_poll\u001b[0m\u001b[1;33m(\u001b[0m\u001b[0mtimeout\u001b[0m \u001b[1;33m/\u001b[0m \u001b[1;36m1000\u001b[0m\u001b[1;33m)\u001b[0m\u001b[1;33m\u001b[0m\u001b[1;33m\u001b[0m\u001b[0m\n\u001b[0m\u001b[0;32m    603\u001b[0m \u001b[1;33m\u001b[0m\u001b[0m\n\u001b[0;32m    604\u001b[0m             \u001b[1;31m# called without the lock to avoid deadlock potential\u001b[0m\u001b[1;33m\u001b[0m\u001b[1;33m\u001b[0m\u001b[1;33m\u001b[0m\u001b[0m\n",
      "\u001b[1;32m~\\anaconda3\\lib\\site-packages\\kafka\\client_async.py\u001b[0m in \u001b[0;36m_poll\u001b[1;34m(self, timeout)\u001b[0m\n\u001b[0;32m    632\u001b[0m \u001b[1;33m\u001b[0m\u001b[0m\n\u001b[0;32m    633\u001b[0m         \u001b[0mstart_select\u001b[0m \u001b[1;33m=\u001b[0m \u001b[0mtime\u001b[0m\u001b[1;33m.\u001b[0m\u001b[0mtime\u001b[0m\u001b[1;33m(\u001b[0m\u001b[1;33m)\u001b[0m\u001b[1;33m\u001b[0m\u001b[1;33m\u001b[0m\u001b[0m\n\u001b[1;32m--> 634\u001b[1;33m         \u001b[0mready\u001b[0m \u001b[1;33m=\u001b[0m \u001b[0mself\u001b[0m\u001b[1;33m.\u001b[0m\u001b[0m_selector\u001b[0m\u001b[1;33m.\u001b[0m\u001b[0mselect\u001b[0m\u001b[1;33m(\u001b[0m\u001b[0mtimeout\u001b[0m\u001b[1;33m)\u001b[0m\u001b[1;33m\u001b[0m\u001b[1;33m\u001b[0m\u001b[0m\n\u001b[0m\u001b[0;32m    635\u001b[0m         \u001b[0mend_select\u001b[0m \u001b[1;33m=\u001b[0m \u001b[0mtime\u001b[0m\u001b[1;33m.\u001b[0m\u001b[0mtime\u001b[0m\u001b[1;33m(\u001b[0m\u001b[1;33m)\u001b[0m\u001b[1;33m\u001b[0m\u001b[1;33m\u001b[0m\u001b[0m\n\u001b[0;32m    636\u001b[0m         \u001b[1;32mif\u001b[0m \u001b[0mself\u001b[0m\u001b[1;33m.\u001b[0m\u001b[0m_sensors\u001b[0m\u001b[1;33m:\u001b[0m\u001b[1;33m\u001b[0m\u001b[1;33m\u001b[0m\u001b[0m\n",
      "\u001b[1;32m~\\anaconda3\\lib\\selectors.py\u001b[0m in \u001b[0;36mselect\u001b[1;34m(self, timeout)\u001b[0m\n\u001b[0;32m    321\u001b[0m         \u001b[0mready\u001b[0m \u001b[1;33m=\u001b[0m \u001b[1;33m[\u001b[0m\u001b[1;33m]\u001b[0m\u001b[1;33m\u001b[0m\u001b[1;33m\u001b[0m\u001b[0m\n\u001b[0;32m    322\u001b[0m         \u001b[1;32mtry\u001b[0m\u001b[1;33m:\u001b[0m\u001b[1;33m\u001b[0m\u001b[1;33m\u001b[0m\u001b[0m\n\u001b[1;32m--> 323\u001b[1;33m             \u001b[0mr\u001b[0m\u001b[1;33m,\u001b[0m \u001b[0mw\u001b[0m\u001b[1;33m,\u001b[0m \u001b[0m_\u001b[0m \u001b[1;33m=\u001b[0m \u001b[0mself\u001b[0m\u001b[1;33m.\u001b[0m\u001b[0m_select\u001b[0m\u001b[1;33m(\u001b[0m\u001b[0mself\u001b[0m\u001b[1;33m.\u001b[0m\u001b[0m_readers\u001b[0m\u001b[1;33m,\u001b[0m \u001b[0mself\u001b[0m\u001b[1;33m.\u001b[0m\u001b[0m_writers\u001b[0m\u001b[1;33m,\u001b[0m \u001b[1;33m[\u001b[0m\u001b[1;33m]\u001b[0m\u001b[1;33m,\u001b[0m \u001b[0mtimeout\u001b[0m\u001b[1;33m)\u001b[0m\u001b[1;33m\u001b[0m\u001b[1;33m\u001b[0m\u001b[0m\n\u001b[0m\u001b[0;32m    324\u001b[0m         \u001b[1;32mexcept\u001b[0m \u001b[0mInterruptedError\u001b[0m\u001b[1;33m:\u001b[0m\u001b[1;33m\u001b[0m\u001b[1;33m\u001b[0m\u001b[0m\n\u001b[0;32m    325\u001b[0m             \u001b[1;32mreturn\u001b[0m \u001b[0mready\u001b[0m\u001b[1;33m\u001b[0m\u001b[1;33m\u001b[0m\u001b[0m\n",
      "\u001b[1;32m~\\anaconda3\\lib\\selectors.py\u001b[0m in \u001b[0;36m_select\u001b[1;34m(self, r, w, _, timeout)\u001b[0m\n\u001b[0;32m    312\u001b[0m     \u001b[1;32mif\u001b[0m \u001b[0msys\u001b[0m\u001b[1;33m.\u001b[0m\u001b[0mplatform\u001b[0m \u001b[1;33m==\u001b[0m \u001b[1;34m'win32'\u001b[0m\u001b[1;33m:\u001b[0m\u001b[1;33m\u001b[0m\u001b[1;33m\u001b[0m\u001b[0m\n\u001b[0;32m    313\u001b[0m         \u001b[1;32mdef\u001b[0m \u001b[0m_select\u001b[0m\u001b[1;33m(\u001b[0m\u001b[0mself\u001b[0m\u001b[1;33m,\u001b[0m \u001b[0mr\u001b[0m\u001b[1;33m,\u001b[0m \u001b[0mw\u001b[0m\u001b[1;33m,\u001b[0m \u001b[0m_\u001b[0m\u001b[1;33m,\u001b[0m \u001b[0mtimeout\u001b[0m\u001b[1;33m=\u001b[0m\u001b[1;32mNone\u001b[0m\u001b[1;33m)\u001b[0m\u001b[1;33m:\u001b[0m\u001b[1;33m\u001b[0m\u001b[1;33m\u001b[0m\u001b[0m\n\u001b[1;32m--> 314\u001b[1;33m             \u001b[0mr\u001b[0m\u001b[1;33m,\u001b[0m \u001b[0mw\u001b[0m\u001b[1;33m,\u001b[0m \u001b[0mx\u001b[0m \u001b[1;33m=\u001b[0m \u001b[0mselect\u001b[0m\u001b[1;33m.\u001b[0m\u001b[0mselect\u001b[0m\u001b[1;33m(\u001b[0m\u001b[0mr\u001b[0m\u001b[1;33m,\u001b[0m \u001b[0mw\u001b[0m\u001b[1;33m,\u001b[0m \u001b[0mw\u001b[0m\u001b[1;33m,\u001b[0m \u001b[0mtimeout\u001b[0m\u001b[1;33m)\u001b[0m\u001b[1;33m\u001b[0m\u001b[1;33m\u001b[0m\u001b[0m\n\u001b[0m\u001b[0;32m    315\u001b[0m             \u001b[1;32mreturn\u001b[0m \u001b[0mr\u001b[0m\u001b[1;33m,\u001b[0m \u001b[0mw\u001b[0m \u001b[1;33m+\u001b[0m \u001b[0mx\u001b[0m\u001b[1;33m,\u001b[0m \u001b[1;33m[\u001b[0m\u001b[1;33m]\u001b[0m\u001b[1;33m\u001b[0m\u001b[1;33m\u001b[0m\u001b[0m\n\u001b[0;32m    316\u001b[0m     \u001b[1;32melse\u001b[0m\u001b[1;33m:\u001b[0m\u001b[1;33m\u001b[0m\u001b[1;33m\u001b[0m\u001b[0m\n",
      "\u001b[1;31mKeyboardInterrupt\u001b[0m: "
     ]
    }
   ],
   "source": [
    "consumer_df=pd.DataFrame()\n",
    "for message in consumer:\n",
    "    message = message.value\n",
    "    print(message,'\\n')\n",
    "    consumer_df=consumer_df.append(pd.DataFrame([message]))\n",
    "    \n"
   ]
  },
  {
   "cell_type": "code",
   "execution_count": 31,
   "metadata": {},
   "outputs": [],
   "source": [
    "consumer_df=consumer_df.drop_duplicates(ignore_index=True)"
   ]
  },
  {
   "cell_type": "code",
   "execution_count": 32,
   "metadata": {},
   "outputs": [
    {
     "name": "stdout",
     "output_type": "stream",
     "text": [
      "Data saved as results_db successfully\n"
     ]
    }
   ],
   "source": [
    "store_db(consumer_df,'results_db')"
   ]
  },
  {
   "cell_type": "code",
   "execution_count": 33,
   "metadata": {},
   "outputs": [
    {
     "data": {
      "text/plain": [
       "(16, 21)"
      ]
     },
     "execution_count": 33,
     "metadata": {},
     "output_type": "execute_result"
    }
   ],
   "source": [
    "consumer_df.shape"
   ]
  },
  {
   "cell_type": "code",
   "execution_count": 34,
   "metadata": {},
   "outputs": [],
   "source": [
    "consumer_df.to_excel(\"odr_check_29Dec.xlsx\")"
   ]
  }
 ],
 "metadata": {
  "kernelspec": {
   "display_name": "Python 3 (ipykernel)",
   "language": "python",
   "name": "python3"
  },
  "language_info": {
   "codemirror_mode": {
    "name": "ipython",
    "version": 3
   },
   "file_extension": ".py",
   "mimetype": "text/x-python",
   "name": "python",
   "nbconvert_exporter": "python",
   "pygments_lexer": "ipython3",
   "version": "3.9.7"
  }
 },
 "nbformat": 4,
 "nbformat_minor": 2
}
