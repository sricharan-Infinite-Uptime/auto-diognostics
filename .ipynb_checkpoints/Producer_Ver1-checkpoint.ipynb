{
 "cells": [
  {
   "cell_type": "code",
   "execution_count": 1,
   "metadata": {},
   "outputs": [],
   "source": [
    "from time import sleep\n",
    "from json import dumps\n",
    "from kafka import KafkaProducer\n",
    "import pickle\n",
    "import datetime\n",
    "import pandas as pd\n",
    "import psycopg2\n",
    "import yaml\n",
    "import numpy as np\n",
    "\n",
    "\n"
   ]
  },
  {
   "cell_type": "code",
   "execution_count": 2,
   "metadata": {},
   "outputs": [],
   "source": [
    "#retrieve data from pickle \n",
    "def restore_db(pickle_name):\n",
    "    \"\"\"\n",
    "    pickle_name is a string, that is how the compressed file is named\n",
    "    this function returns the data in the same format it was stored\n",
    "    \"\"\"\n",
    "    infile = open(pickle_name,'rb')\n",
    "    source= pickle.load(infile)\n",
    "    print('File type:',type(source))\n",
    "    infile.close()\n",
    "    return source"
   ]
  },
  {
   "cell_type": "code",
   "execution_count": 3,
   "metadata": {},
   "outputs": [],
   "source": [
    "def get_timestamp_previous_day():\n",
    "    now=datetime.datetime.now()-datetime.timedelta(hours=5.5)\n",
    "    before=now-datetime.timedelta(hours=24)\n",
    "    return(before,now)"
   ]
  },
  {
   "cell_type": "code",
   "execution_count": 4,
   "metadata": {},
   "outputs": [],
   "source": [
    "def get_timestamp_from_epoch(_epoch):\n",
    "    return datetime.datetime.fromtimestamp(_epoch/1000).strftime('%Y-%m-%d %H:%M:%S.%f')"
   ]
  },
  {
   "cell_type": "code",
   "execution_count": 5,
   "metadata": {},
   "outputs": [],
   "source": [
    "\n",
    "#pickle the dataframe for future retrieval if any\n",
    "def store_db(dataframe,pickle_name):\n",
    "    \"\"\"\n",
    "    pickle_name is a string, that is how the compressed file is named\n",
    "    dataframe is name of the dataframe\n",
    "    \n",
    "    \"\"\"\n",
    "    outfile = open(pickle_name,'wb')\n",
    "    pickle.dump(dataframe,outfile)\n",
    "    outfile.close()\n",
    "    print('Data saved as {0} successfully'.format(pickle_name))\n"
   ]
  },
  {
   "cell_type": "code",
   "execution_count": 6,
   "metadata": {},
   "outputs": [],
   "source": [
    "def query_raw_data(monitor, start_time, end_time, login_detail, IST=False):\n",
    "    # by default start time and endtime are UTC string in GMT zone\n",
    "    # if 'ist_time' flag is True, the input values are considered as IST and converted to GMT format\n",
    "\n",
    "    if IST:\n",
    "        start_time = pd.to_datetime(start_time) - datetime.timedelta(hours=5.5)\n",
    "        end_time = pd.to_datetime(end_time) - datetime.timedelta(hours=5.5)\n",
    "\n",
    "    try:\n",
    "\n",
    "        _user = login_detail[0]\n",
    "        _pwd = login_detail[1]\n",
    "        _host = login_detail[2]\n",
    "        _port = login_detail[3]\n",
    "        _db = login_detail[4]\n",
    "\n",
    "        connection = psycopg2.connect(user=_user,\n",
    "                                      password=_pwd,\n",
    "                                      host=_host,\n",
    "                                      port=_port,\n",
    "                                      database=_db)\n",
    "\n",
    "        cursor = connection.cursor()\n",
    "\n",
    "        query = f\"\"\"\n",
    "        SELECT * FROM \"raw_acceleration_data\" \n",
    "        WHERE \"monitor_id\" = '{monitor}' \n",
    "        AND \"time\" >= '{start_time}'\n",
    "        AND \"time\" <= '{end_time}' \n",
    "        LIMIT 50\n",
    "        \"\"\"\n",
    "\n",
    "        cursor.execute(query)\n",
    "        records = cursor.fetchall()\n",
    "\n",
    "        result = []\n",
    "\n",
    "        for row in records:\n",
    "            data = {}\n",
    "            data['x_raw'] = row[1]\n",
    "            data['y_raw'] = row[2]\n",
    "            data['z_raw'] = row[3]\n",
    "            data['block_size'] = row[4]\n",
    "            data['mac'] = row[5]\n",
    "            data['fw_version'] = row[6]\n",
    "            data['monitor_id'] = row[7]\n",
    "            data['sampling_rate'] = row[8]\n",
    "            data['timestamp'] = row[9]\n",
    "\n",
    "            result.append(data)\n",
    "\n",
    "    except (Exception, psycopg2.Error) as error:\n",
    "        print('Error while connecting to PostgreSQL', error)\n",
    "        raise Exception('Error while connecting to PostgreSQL')\n",
    "    finally:\n",
    "        if (connection):\n",
    "            cursor.close()\n",
    "            connection.close()\n",
    "    return result"
   ]
  },
  {
   "cell_type": "code",
   "execution_count": 7,
   "metadata": {},
   "outputs": [],
   "source": [
    "import os\n",
    "def load_env_variables():\n",
    "    try:\n",
    "        user = os.getenv('USER')\n",
    "        password = os.getenv('PASSWORD')\n",
    "        host = os.getenv('IP')\n",
    "        port = os.getenv('PORT')\n",
    "        database = os.getenv('DATABASE')\n",
    "        #logger.info('Login USER: {}'.format(user))\n",
    "        #logger.info('Login DATABASE: {}'.format(database))\n",
    "        return [user, password, host, port, database]\n",
    "    except Exception as e:\n",
    "        raise Exception(\"Login details not available in Environment variables\", e)"
   ]
  },
  {
   "cell_type": "code",
   "execution_count": 8,
   "metadata": {},
   "outputs": [
    {
     "data": {
      "text/plain": [
       "[None, None, None, None, None]"
      ]
     },
     "execution_count": 8,
     "metadata": {},
     "output_type": "execute_result"
    }
   ],
   "source": [
    "login=load_env_variables()\n",
    "login"
   ]
  },
  {
   "cell_type": "code",
   "execution_count": null,
   "metadata": {},
   "outputs": [],
   "source": [
    "producer1 = KafkaProducer(bootstrap_servers=['127.0.0.1:9092'],\n",
    "                         value_serializer=lambda x: \n",
    "                         dumps(x).encode('utf-8'))\n"
   ]
  },
  {
   "cell_type": "code",
   "execution_count": null,
   "metadata": {},
   "outputs": [],
   "source": [
    "start_time=int(pd.to_datetime('2021-12-27 18:30:00').timestamp()*1000)\n",
    "end_time=int(pd.to_datetime('2021-12-28 18:30:00').timestamp()*1000)\n",
    "message={\"startTime\":start_time,\n",
    "        \"endTime\":end_time\n",
    "       }\n",
    "producer1.send('diagnostic_recommendation_request1', value=message)\n",
    "\n",
    "#\"plantList\":[\"UTCL_Dadri\",\"UTCL_Dalla\",\"UTCL_Bara\"]\n"
   ]
  }
 ],
 "metadata": {
  "kernelspec": {
   "display_name": "Python 3 (ipykernel)",
   "language": "python",
   "name": "python3"
  },
  "language_info": {
   "codemirror_mode": {
    "name": "ipython",
    "version": 3
   },
   "file_extension": ".py",
   "mimetype": "text/x-python",
   "name": "python",
   "nbconvert_exporter": "python",
   "pygments_lexer": "ipython3",
   "version": "3.9.7"
  }
 },
 "nbformat": 4,
 "nbformat_minor": 2
}
