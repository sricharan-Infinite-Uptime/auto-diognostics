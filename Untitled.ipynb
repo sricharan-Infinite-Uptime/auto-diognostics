{
 "cells": [
  {
   "cell_type": "code",
   "execution_count": 25,
   "id": "63792666",
   "metadata": {},
   "outputs": [],
   "source": [
    "def laxman_narayana_func(func):\n",
    "    def inner(*args, **kwargs):\n",
    "        # do something here\n",
    "        args = [i*2 for i in args] # 1,4\n",
    "        x = func(*args, **kwargs)\n",
    "        print(x)\n",
    "        # change the output\n",
    "        res = x*x\n",
    "        return res\n",
    "    return inner"
   ]
  },
  {
   "cell_type": "code",
   "execution_count": 33,
   "id": "0734ef5e",
   "metadata": {},
   "outputs": [],
   "source": [
    "@laxman_narayana_func\n",
    "def t(a,b):\n",
    "    print(a,b)\n",
    "    x = sum([a,b])\n",
    "    return x"
   ]
  },
  {
   "cell_type": "code",
   "execution_count": 34,
   "id": "67e65270",
   "metadata": {},
   "outputs": [
    {
     "name": "stdout",
     "output_type": "stream",
     "text": [
      "2 4\n",
      "6\n"
     ]
    },
    {
     "data": {
      "text/plain": [
       "36"
      ]
     },
     "execution_count": 34,
     "metadata": {},
     "output_type": "execute_result"
    }
   ],
   "source": [
    "t(1,2)"
   ]
  },
  {
   "cell_type": "code",
   "execution_count": null,
   "id": "7fb9255e",
   "metadata": {},
   "outputs": [],
   "source": []
  },
  {
   "cell_type": "code",
   "execution_count": null,
   "id": "376ea95d",
   "metadata": {},
   "outputs": [],
   "source": []
  },
  {
   "cell_type": "code",
   "execution_count": null,
   "id": "c91951c1",
   "metadata": {},
   "outputs": [],
   "source": []
  },
  {
   "cell_type": "code",
   "execution_count": null,
   "id": "cd2f509e",
   "metadata": {},
   "outputs": [],
   "source": [
    "*args - \n",
    "**kwargs"
   ]
  },
  {
   "cell_type": "code",
   "execution_count": 11,
   "id": "850dc5f9",
   "metadata": {},
   "outputs": [],
   "source": [
    "def test(a,b, **kwargs):\n",
    "    print(a,b, kwargs)"
   ]
  },
  {
   "cell_type": "code",
   "execution_count": 13,
   "id": "7e68fb14",
   "metadata": {},
   "outputs": [
    {
     "name": "stdout",
     "output_type": "stream",
     "text": [
      "1 2 {'seshu': 3, 'lokesh': 5}\n"
     ]
    }
   ],
   "source": [
    "test(1,2,seshu = 3,lokesh = 5)"
   ]
  },
  {
   "cell_type": "code",
   "execution_count": 20,
   "id": "59ecb044",
   "metadata": {},
   "outputs": [],
   "source": [
    "def func1(arg1, args2,*args, kwarg1 = \"hello\", kwarg2 = \"world\", context= \"x\"):\n",
    "    print(arg1, args2, args, kwarg1, kwarg2, context)\n",
    "    kwarg1 = \"overridden\"\n",
    "    print(arg1, args2, kwarg1, kwarg2)"
   ]
  },
  {
   "cell_type": "code",
   "execution_count": 21,
   "id": "cc86ca7e",
   "metadata": {},
   "outputs": [
    {
     "name": "stdout",
     "output_type": "stream",
     "text": [
      "1 2 (3, 4, 5) hello world x\n",
      "1 2 overridden world\n"
     ]
    }
   ],
   "source": [
    "func1(1,2, 3,4,5)"
   ]
  },
  {
   "cell_type": "code",
   "execution_count": 35,
   "id": "fa1ebd13",
   "metadata": {},
   "outputs": [],
   "source": [
    "x = {\"a\":1, \"b\":2}"
   ]
  },
  {
   "cell_type": "code",
   "execution_count": 36,
   "id": "029de6ce",
   "metadata": {},
   "outputs": [
    {
     "data": {
      "text/plain": [
       "1"
      ]
     },
     "execution_count": 36,
     "metadata": {},
     "output_type": "execute_result"
    }
   ],
   "source": [
    "x[\"a\"]"
   ]
  },
  {
   "cell_type": "code",
   "execution_count": 37,
   "id": "df15126d",
   "metadata": {},
   "outputs": [],
   "source": [
    "a = [1,2,3]\n",
    "# a[0]"
   ]
  },
  {
   "cell_type": "code",
   "execution_count": 38,
   "id": "98bb6ef0",
   "metadata": {},
   "outputs": [],
   "source": [
    "js = '{\"hello\":\"world\", \"test\":1}'"
   ]
  },
  {
   "cell_type": "code",
   "execution_count": 39,
   "id": "63361656",
   "metadata": {},
   "outputs": [],
   "source": [
    "d = {\"hello\":\"world\", \"test\":1}"
   ]
  },
  {
   "cell_type": "code",
   "execution_count": 41,
   "id": "ac86dfc2",
   "metadata": {},
   "outputs": [],
   "source": [
    "import json"
   ]
  },
  {
   "cell_type": "code",
   "execution_count": 43,
   "id": "dbfcaf23",
   "metadata": {},
   "outputs": [],
   "source": [
    "x = json.loads(js)"
   ]
  },
  {
   "cell_type": "code",
   "execution_count": 44,
   "id": "b98d699e",
   "metadata": {},
   "outputs": [
    {
     "data": {
      "text/plain": [
       "dict"
      ]
     },
     "execution_count": 44,
     "metadata": {},
     "output_type": "execute_result"
    }
   ],
   "source": [
    "type(x)"
   ]
  },
  {
   "cell_type": "code",
   "execution_count": 45,
   "id": "6cde9683",
   "metadata": {},
   "outputs": [
    {
     "data": {
      "text/plain": [
       "'world'"
      ]
     },
     "execution_count": 45,
     "metadata": {},
     "output_type": "execute_result"
    }
   ],
   "source": [
    "x[\"hello\"]"
   ]
  },
  {
   "cell_type": "code",
   "execution_count": 46,
   "id": "dbd375a5",
   "metadata": {},
   "outputs": [
    {
     "data": {
      "text/plain": [
       "'{\"hello\": \"world\", \"test\": 1}'"
      ]
     },
     "execution_count": 46,
     "metadata": {},
     "output_type": "execute_result"
    }
   ],
   "source": [
    "json.dumps(x)"
   ]
  },
  {
   "cell_type": "code",
   "execution_count": null,
   "id": "5f36d11e",
   "metadata": {},
   "outputs": [],
   "source": []
  },
  {
   "cell_type": "code",
   "execution_count": null,
   "id": "f2607098",
   "metadata": {},
   "outputs": [],
   "source": [
    "speed_range = {\"from\":225, \"to\":1000}"
   ]
  },
  {
   "cell_type": "code",
   "execution_count": 8,
   "id": "e9172a47",
   "metadata": {},
   "outputs": [],
   "source": [
    "data = \"\"\"\n",
    "led_control:\n",
    "- 1\n",
    "- 1\n",
    "- 1\n",
    "- 1\n",
    "- 1\n",
    "- 1\n",
    "spectral_monitoring:\n",
    "  lines_of_resolution: 1600\n",
    "  maximum_frequency: 1300.0\n",
    "  g_range: 4\n",
    "additional_attrs:\n",
    "  bearing_type: 70347\n",
    "  dsp: 7\n",
    "  rotating_speed: 0.0\n",
    "  rotating_speed_type: \"VARIABLE\"\n",
    "  rotating_speed_range:\n",
    "    from: 6675.0\n",
    "    to: 57720.0\n",
    "conditions:\n",
    "  Total Acceleration:\n",
    "    alertPreference: \"CAUTWARN\"\n",
    "    alertBuffer: 30\n",
    "    repeatFrequency: 60\n",
    "    dashboardDial: true\n",
    "    Operational:\n",
    "      threshold_value: 110.0\n",
    "    Caution:\n",
    "      threshold_value: 400.0\n",
    "    Warning:\n",
    "      threshold_value: 600.0\n",
    "  X-axis Velocity:\n",
    "    alertPreference: \"CAUTWARN\"\n",
    "    alertBuffer: 30\n",
    "    repeatFrequency: 60\n",
    "    dashboardDial: true\n",
    "    Operational:\n",
    "      threshold_value: 0.5\n",
    "    Caution:\n",
    "      threshold_value: 4.5\n",
    "    Warning:\n",
    "      threshold_value: 11.2\n",
    "  Y-axis Velocity:\n",
    "    alertPreference: \"CAUTWARN\"\n",
    "    alertBuffer: 30\n",
    "    repeatFrequency: 60\n",
    "    dashboardDial: true\n",
    "    Operational:\n",
    "      threshold_value: 0.5\n",
    "    Caution:\n",
    "      threshold_value: 4.5\n",
    "    Warning:\n",
    "      threshold_value: 11.2\n",
    "  Z-axis Velocity:\n",
    "    alertPreference: \"CAUTWARN\"\n",
    "    alertBuffer: 30\n",
    "    repeatFrequency: 60\n",
    "    dashboardDial: true\n",
    "    Operational:\n",
    "      threshold_value: 0.5\n",
    "    Caution:\n",
    "      threshold_value: 4.5\n",
    "    Warning:\n",
    "      threshold_value: 11.2\n",
    "  Temperature:\n",
    "    alertPreference: \"CAUTWARN\"\n",
    "    alertBuffer: 30\n",
    "    repeatFrequency: 60\n",
    "    dashboardDial: true\n",
    "    Operational:\n",
    "      threshold_value: 40.0\n",
    "    Caution:\n",
    "      threshold_value: 70.0\n",
    "    Warning:\n",
    "      threshold_value: 80.0\n",
    "  Audio:\n",
    "    alertPreference: \"CAUTWARN\"\n",
    "    alertBuffer: 30\n",
    "    repeatFrequency: 60\n",
    "    dashboardDial: true\n",
    "    Operational:\n",
    "      threshold_value: 90.0\n",
    "    Caution:\n",
    "      threshold_value: 140.0\n",
    "    Warning:\n",
    "      threshold_value: 160.0\n",
    "diagnostics: []\n",
    "features:\n",
    "- \"Total Acceleration\"\n",
    "- \"X-axis Velocity\"\n",
    "- \"Y-axis Velocity\"\n",
    "- \"Z-axis Velocity\"\n",
    "- \"Temperature\"\n",
    "- \"Audio\"\n",
    "   \"\"\""
   ]
  },
  {
   "cell_type": "code",
   "execution_count": 9,
   "id": "3f532103",
   "metadata": {},
   "outputs": [
    {
     "name": "stderr",
     "output_type": "stream",
     "text": [
      "C:\\Users\\infin\\AppData\\Local\\Temp/ipykernel_29856/2600271982.py:2: YAMLLoadWarning: calling yaml.load() without Loader=... is deprecated, as the default Loader is unsafe. Please read https://msg.pyyaml.org/load for full details.\n",
      "  x = yaml.load(data)\n"
     ]
    }
   ],
   "source": [
    "import yaml\n",
    "x = yaml.load(data)"
   ]
  },
  {
   "cell_type": "code",
   "execution_count": 10,
   "id": "b4cacb65",
   "metadata": {},
   "outputs": [
    {
     "name": "stdout",
     "output_type": "stream",
     "text": [
      "{'led_control': [1, 1, 1, 1, 1, 1], 'spectral_monitoring': {'lines_of_resolution': 1600, 'maximum_frequency': 1300.0, 'g_range': 4}, 'additional_attrs': {'bearing_type': 70347, 'dsp': 7, 'rotating_speed': 0.0, 'rotating_speed_type': 'VARIABLE', 'rotating_speed_range': {'from': 6675.0, 'to': 57720.0}}, 'conditions': {'Total Acceleration': {'alertPreference': 'CAUTWARN', 'alertBuffer': 30, 'repeatFrequency': 60, 'dashboardDial': True, 'Operational': {'threshold_value': 110.0}, 'Caution': {'threshold_value': 400.0}, 'Warning': {'threshold_value': 600.0}}, 'X-axis Velocity': {'alertPreference': 'CAUTWARN', 'alertBuffer': 30, 'repeatFrequency': 60, 'dashboardDial': True, 'Operational': {'threshold_value': 0.5}, 'Caution': {'threshold_value': 4.5}, 'Warning': {'threshold_value': 11.2}}, 'Y-axis Velocity': {'alertPreference': 'CAUTWARN', 'alertBuffer': 30, 'repeatFrequency': 60, 'dashboardDial': True, 'Operational': {'threshold_value': 0.5}, 'Caution': {'threshold_value': 4.5}, 'Warning': {'threshold_value': 11.2}}, 'Z-axis Velocity': {'alertPreference': 'CAUTWARN', 'alertBuffer': 30, 'repeatFrequency': 60, 'dashboardDial': True, 'Operational': {'threshold_value': 0.5}, 'Caution': {'threshold_value': 4.5}, 'Warning': {'threshold_value': 11.2}}, 'Temperature': {'alertPreference': 'CAUTWARN', 'alertBuffer': 30, 'repeatFrequency': 60, 'dashboardDial': True, 'Operational': {'threshold_value': 40.0}, 'Caution': {'threshold_value': 70.0}, 'Warning': {'threshold_value': 80.0}}, 'Audio': {'alertPreference': 'CAUTWARN', 'alertBuffer': 30, 'repeatFrequency': 60, 'dashboardDial': True, 'Operational': {'threshold_value': 90.0}, 'Caution': {'threshold_value': 140.0}, 'Warning': {'threshold_value': 160.0}}}, 'diagnostics': [], 'features': ['Total Acceleration', 'X-axis Velocity', 'Y-axis Velocity', 'Z-axis Velocity', 'Temperature', 'Audio']}\n"
     ]
    }
   ],
   "source": [
    "print(x)"
   ]
  },
  {
   "cell_type": "code",
   "execution_count": 11,
   "id": "ed1dd5a8",
   "metadata": {},
   "outputs": [
    {
     "data": {
      "text/plain": [
       "{'bearing_type': 70347,\n",
       " 'dsp': 7,\n",
       " 'rotating_speed': 0.0,\n",
       " 'rotating_speed_type': 'VARIABLE',\n",
       " 'rotating_speed_range': {'from': 6675.0, 'to': 57720.0}}"
      ]
     },
     "execution_count": 11,
     "metadata": {},
     "output_type": "execute_result"
    }
   ],
   "source": [
    "x['additional_attrs']"
   ]
  },
  {
   "cell_type": "code",
   "execution_count": 12,
   "id": "1bebec14",
   "metadata": {},
   "outputs": [
    {
     "data": {
      "text/plain": [
       "{'from': 6675.0, 'to': 57720.0}"
      ]
     },
     "execution_count": 12,
     "metadata": {},
     "output_type": "execute_result"
    }
   ],
   "source": [
    "x['additional_attrs']['rotating_speed_range']"
   ]
  },
  {
   "cell_type": "code",
   "execution_count": 48,
   "id": "c8f628e1",
   "metadata": {},
   "outputs": [
    {
     "name": "stdout",
     "output_type": "stream",
     "text": [
      "25\n",
      "sri charan\n"
     ]
    }
   ],
   "source": [
    "class charan:\n",
    "    def __init__(self,first, last, age):\n",
    "        self.first = first\n",
    "        self.last = last\n",
    "        self.age = age\n",
    "    \n",
    "    def full_name(self):\n",
    "        return '{} {}'.format(self.first, self.last)\n",
    "        \n",
    "\n",
    "person_1 = charan(\"sri\",\"charan\",25)\n",
    "\n",
    "print(person_1.age)\n",
    "print(charan.full_name(person_1))"
   ]
  },
  {
   "cell_type": "code",
   "execution_count": null,
   "id": "d7dca17f",
   "metadata": {},
   "outputs": [],
   "source": []
  }
 ],
 "metadata": {
  "kernelspec": {
   "display_name": "Python 3 (ipykernel)",
   "language": "python",
   "name": "python3"
  },
  "language_info": {
   "codemirror_mode": {
    "name": "ipython",
    "version": 3
   },
   "file_extension": ".py",
   "mimetype": "text/x-python",
   "name": "python",
   "nbconvert_exporter": "python",
   "pygments_lexer": "ipython3",
   "version": "3.9.7"
  }
 },
 "nbformat": 4,
 "nbformat_minor": 5
}
